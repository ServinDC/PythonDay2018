{
 "cells": [
  {
   "cell_type": "markdown",
   "metadata": {
    "nbpresent": {
     "id": "1c1447a9-5233-4e04-af73-a27b73040638"
    }
   },
   "source": [
    "# Reconstrucción de la señal de difusión con el modelo tensorial (DTI)"
   ]
  },
  {
   "cell_type": "markdown",
   "metadata": {
    "nbpresent": {
     "id": "20efa830-0104-4751-994a-6acf4bbf8536"
    }
   },
   "source": [
    "El modelo del tensor de difusión describe a la señal como:\n",
    "$$\n",
    "\\mathbf{S}(\\mathbf{g},b) = S_0\\text{e}^{ -b \\mathbf{g}^T\\mathbf{D}\\mathbf{g} }\n",
    "$$\n",
    "donde $\\mathbf{g}$ es la dirección gradiente con valor asociado $b$, $\\mathbf{S}(\\mathbf{g},b)$ es la señal obtenida con dichos parámetros, $S_0$ es la señal de referencia  y $\\mathbf{D}$ es el tensor de difusión."
   ]
  },
  {
   "cell_type": "markdown",
   "metadata": {
    "nbpresent": {
     "id": "e6aea249-4e4c-49bf-8670-d607fd28824d"
    }
   },
   "source": [
    "Tenemos entonces 6 parámetros para ajustar, por la simetría de $\\mathbf{D}$:\n",
    "$$\n",
    "\\mathbf{D} = \\begin{pmatrix} D_{xx} & D_{xy} & D_{xz} \\\\\n",
    "                       D_{yx} & D_{yy} & D_{yz} \\\\\n",
    "                       D_{zx} & D_{zy} & D_{zz} \\\\ \\end{pmatrix}\n",
    "$$"
   ]
  },
  {
   "cell_type": "markdown",
   "metadata": {
    "nbpresent": {
     "id": "06e2ac0a-0f51-4c31-b1cf-0a44f83d7404"
    }
   },
   "source": [
    "Importamos algunas librerías junto con un conjunto de datos:"
   ]
  },
  {
   "cell_type": "code",
   "execution_count": 14,
   "metadata": {
    "nbpresent": {
     "id": "6603163d-0b53-4002-833e-e50ff94dbf9a"
    }
   },
   "outputs": [
    {
     "name": "stdout",
     "output_type": "stream",
     "text": [
      "Dataset is already in place. If you want to fetch it again please first remove the folder /home/david/.dipy/stanford_hardi \n"
     ]
    },
    {
     "data": {
      "text/plain": [
       "({'HARDI150.bval': ('https://stacks.stanford.edu/file/druid:yx282xq2090/dwi.bvals',\n",
       "   '4e08ee9e2b1d2ec3fddb68c70ae23c36'),\n",
       "  'HARDI150.bvec': ('https://stacks.stanford.edu/file/druid:yx282xq2090/dwi.bvecs',\n",
       "   '4c63a586f29afc6a48a5809524a76cb4'),\n",
       "  'HARDI150.nii.gz': ('https://stacks.stanford.edu/file/druid:yx282xq2090/dwi.nii.gz',\n",
       "   '0b18513b46132b4d1051ed3364f2acbc')},\n",
       " '/home/david/.dipy/stanford_hardi')"
      ]
     },
     "execution_count": 14,
     "metadata": {},
     "output_type": "execute_result"
    }
   ],
   "source": [
    "import numpy as np\n",
    "import nibabel as nib\n",
    "import dipy.reconst.dti as dti # reconstruction algorithms\n",
    "from dipy.data import fetch_stanford_hardi # small datasets\n",
    "fetch_stanford_hardi() # Download a HARDI dataset with 160 gradient directions"
   ]
  },
  {
   "cell_type": "markdown",
   "metadata": {
    "nbpresent": {
     "id": "56975758-72a8-49fe-93e5-7acbec896f15"
    }
   },
   "source": [
    "Y lo leemos:"
   ]
  },
  {
   "cell_type": "code",
   "execution_count": 15,
   "metadata": {
    "nbpresent": {
     "id": "f13ad81f-ba0a-4594-8615-c81037004666"
    }
   },
   "outputs": [
    {
     "name": "stdout",
     "output_type": "stream",
     "text": [
      "Dataset is already in place. If you want to fetch it again please first remove the folder /home/david/.dipy/stanford_hardi \n"
     ]
    }
   ],
   "source": [
    "from dipy.data import read_stanford_hardi\n",
    "img, gtab = read_stanford_hardi()"
   ]
  },
  {
   "cell_type": "markdown",
   "metadata": {
    "nbpresent": {
     "id": "3d36ed0f-98db-40e3-971e-585b9cfed71b"
    }
   },
   "source": [
    "`img` es un objeto `Nifti1Image` de `nibabel` y `gtab` es un objeto `GradientTable` de `DiPy`."
   ]
  },
  {
   "cell_type": "code",
   "execution_count": 16,
   "metadata": {
    "nbpresent": {
     "id": "0fe1f8bc-a8ca-41f4-b607-32c651867e1a"
    }
   },
   "outputs": [
    {
     "name": "stdout",
     "output_type": "stream",
     "text": [
      "data.shape (81, 106, 76, 160)\n"
     ]
    }
   ],
   "source": [
    "data = img.get_data()\n",
    "print('data.shape (%d, %d, %d, %d)' % data.shape)"
   ]
  },
  {
   "cell_type": "markdown",
   "metadata": {
    "nbpresent": {
     "id": "e31958c4-3300-4ae0-ac99-5c8e50b1e349"
    }
   },
   "source": [
    "Primero, creamos una máscara para nuestros datos:"
   ]
  },
  {
   "cell_type": "code",
   "execution_count": 17,
   "metadata": {
    "nbpresent": {
     "id": "dd2c0f00-888f-45a0-a991-25640e122af7"
    }
   },
   "outputs": [
    {
     "name": "stdout",
     "output_type": "stream",
     "text": [
      "maskdata.shape (71, 87, 62, 160)\n"
     ]
    }
   ],
   "source": [
    "from dipy.segment.mask import median_otsu\n",
    "maskdata, mask = median_otsu(data, 3, 1, True,\n",
    "                             vol_idx=range(10, 50), dilate=2) # (masked_data, mask)\n",
    "print('maskdata.shape (%d, %d, %d, %d)' % maskdata.shape)"
   ]
  },
  {
   "cell_type": "markdown",
   "metadata": {
    "nbpresent": {
     "id": "6612da48-2520-4944-91e5-86721fa1c3c3"
    }
   },
   "source": [
    "Para realizar el ajuste, inicializamos el modelo y llamamos al método `fit`:"
   ]
  },
  {
   "cell_type": "code",
   "execution_count": 18,
   "metadata": {
    "nbpresent": {
     "id": "d1c86ddf-e3e9-4502-809e-7321859c3f75"
    }
   },
   "outputs": [],
   "source": [
    "tenmodel = dti.TensorModel(gtab)\n",
    "tenfit = tenmodel.fit(maskdata)"
   ]
  },
  {
   "cell_type": "markdown",
   "metadata": {
    "nbpresent": {
     "id": "840d9181-9033-49a3-b374-9585e6998f17"
    }
   },
   "source": [
    "El método `fit` crea un objeto `TensorFit` con los parámetros de ajuste y otros atributos del modelo; por ejemplo, la *Anisotropía Fraccional* (FA), definida como:\n",
    "$$\n",
    "FA = \\sqrt{\\frac{1}{2}\\frac{(\\lambda_1-\\lambda_2)^2+(\\lambda_1-\n",
    "                    \\lambda_3)^2+(\\lambda_2-\\lambda_3)^2}{\\lambda_1^2+\n",
    "                    \\lambda_2^2+\\lambda_3^2}}\n",
    "$$\n",
    "donde $\\lambda_1\\ge\\lambda_2\\ge\\lambda_3$ son los valores propios de $\\mathbf{D}$."
   ]
  },
  {
   "cell_type": "code",
   "execution_count": 19,
   "metadata": {
    "nbpresent": {
     "id": "a0f05c41-ff37-4e71-a196-74a530d84ac7"
    }
   },
   "outputs": [],
   "source": [
    "from dipy.reconst.dti import fractional_anisotropy, color_fa\n",
    "FA = fractional_anisotropy(tenfit.evals)\n",
    "FA[np.isnan(FA)] = 0"
   ]
  },
  {
   "cell_type": "markdown",
   "metadata": {
    "nbpresent": {
     "id": "c86a4bc8-3c7a-45c6-908d-62306ccd0dd6"
    }
   },
   "source": [
    "Podemos visualizar cualquier rebanada fácilmente:"
   ]
  },
  {
   "cell_type": "code",
   "execution_count": 20,
   "metadata": {
    "nbpresent": {
     "id": "9cddd773-a22f-459e-b257-fb8d0ce08025"
    }
   },
   "outputs": [
    {
     "data": {
      "image/png": "[encoded data removed]",
      "text/plain": [
       "<matplotlib.figure.Figure at 0x7f8852924208>"
      ]
     },
     "metadata": {
      "needs_background": "light"
     },
     "output_type": "display_data"
    }
   ],
   "source": [
    "import matplotlib.pyplot as plt\n",
    "plt.imshow(FA[:,:,30],cmap='gray')\n",
    "plt.gca().set_axis_off()\n",
    "plt.show()"
   ]
  },
  {
   "cell_type": "markdown",
   "metadata": {
    "nbpresent": {
     "id": "ec54f290-28d6-443f-8613-a63fcf942f0c"
    }
   },
   "source": [
    "Y guardar la imagen, sus valores propios ó vectores propios, en formato Nifti:"
   ]
  },
  {
   "cell_type": "code",
   "execution_count": 21,
   "metadata": {
    "nbpresent": {
     "id": "0c4c80c7-05bd-441a-9b5c-a952640582c9"
    }
   },
   "outputs": [],
   "source": [
    "fa_img = nib.Nifti1Image(FA.astype(np.float32), img.affine)\n",
    "#nib.save(fa_img, 'tensor_fa.nii.gz')\n",
    "evecs_img = nib.Nifti1Image(tenfit.evecs.astype(np.float32), img.affine)\n",
    "#nib.save(evecs_img, 'tensor_evecs.nii.gz')\n",
    "evals_img = nib.Nifti1Image(tenfit.evals.astype(np.float32), img.affine)\n",
    "#nib.save(evals_img, 'tensor_evals.nii.gz')"
   ]
  },
  {
   "cell_type": "markdown",
   "metadata": {
    "nbpresent": {
     "id": "6b8799d9-e776-42b7-b099-852c459ed2f9"
    }
   },
   "source": [
    "Otra estadística de este modelo es la *difusión media* (MD); podemos calcularla de dos formas:"
   ]
  },
  {
   "cell_type": "code",
   "execution_count": 22,
   "metadata": {
    "nbpresent": {
     "id": "404aafd8-bb29-4804-a43b-455b4159a973"
    }
   },
   "outputs": [],
   "source": [
    "MD1 = dti.mean_diffusivity(tenfit.evals)\n",
    "#nib.save(nib.Nifti1Image(MD1.astype(np.float32), img.affine), 'tensors_md.nii.gz')"
   ]
  },
  {
   "cell_type": "code",
   "execution_count": 23,
   "metadata": {
    "nbpresent": {
     "id": "826921cf-4e00-4a2b-ab09-3cc09efeb3b2"
    }
   },
   "outputs": [],
   "source": [
    "MD2 = tenfit.md"
   ]
  },
  {
   "cell_type": "markdown",
   "metadata": {
    "nbpresent": {
     "id": "c8d571b6-25d5-4d79-9748-04895ce3354b"
    }
   },
   "source": [
    "Y resultan equivalentes:"
   ]
  },
  {
   "cell_type": "code",
   "execution_count": 24,
   "metadata": {
    "nbpresent": {
     "id": "4933a957-29c0-44aa-82be-1a39d84b17f8"
    }
   },
   "outputs": [
    {
     "data": {
      "text/plain": [
       "0.0"
      ]
     },
     "execution_count": 24,
     "metadata": {},
     "output_type": "execute_result"
    }
   ],
   "source": [
    "np.linalg.norm(MD1-MD2)"
   ]
  },
  {
   "cell_type": "markdown",
   "metadata": {
    "nbpresent": {
     "id": "f161b76e-fd0f-432a-abf7-9f7edc657328"
    }
   },
   "source": [
    "Para graficar el mapeo a color de la FA evaluamos:"
   ]
  },
  {
   "cell_type": "code",
   "execution_count": 25,
   "metadata": {
    "nbpresent": {
     "id": "7af78e7a-5436-4ec4-8f08-0e2131178954"
    }
   },
   "outputs": [
    {
     "data": {
      "image/png": "[encoded data removed]",
      "text/plain": [
       "<matplotlib.figure.Figure at 0x7f88621565c0>"
      ]
     },
     "metadata": {
      "needs_background": "light"
     },
     "output_type": "display_data"
    }
   ],
   "source": [
    "FA = np.clip(FA, 0, 1)\n",
    "RGB = color_fa(FA, tenfit.evecs) # Color fractional anisotropy of diffusion tensor\n",
    "#nib.save(nib.Nifti1Image(np.array(255 * RGB, 'uint8'), img.affine), 'tensor_rgb.nii.gz')\n",
    "plt.imshow(RGB[:,:,31,:]) # Slice 31\n",
    "plt.gca().set_axis_off()\n",
    "plt.show()"
   ]
  },
  {
   "cell_type": "markdown",
   "metadata": {
    "nbpresent": {
     "id": "f0b68bd9-58b1-45ec-bb9e-bde833cbce27"
    }
   },
   "source": [
    "Calculamos los elipsoides de difusión de un área rectangular de nuestra imágen (cuerpo calloso)."
   ]
  },
  {
   "cell_type": "code",
   "execution_count": 26,
   "metadata": {
    "nbpresent": {
     "id": "ebc2c14d-e52c-4b96-b602-03a910faacf2"
    }
   },
   "outputs": [],
   "source": [
    "from dipy.data import get_sphere\n",
    "sphere = get_sphere('symmetric724')"
   ]
  },
  {
   "cell_type": "code",
   "execution_count": 28,
   "metadata": {
    "nbpresent": {
     "id": "b0dcb429-a879-44eb-8f31-40a18c011004"
    }
   },
   "outputs": [],
   "source": [
    "from dipy.viz import window, actor"
   ]
  },
  {
   "cell_type": "code",
   "execution_count": 41,
   "metadata": {
    "nbpresent": {
     "id": "e6cab383-0bfc-4249-96d3-a54334dd3e41"
    }
   },
   "outputs": [],
   "source": [
    "interactive = True\n",
    "ren = window.Renderer()\n",
    "\n",
    "evals = tenfit.evals[13:43, 44:74, 28:29]\n",
    "evecs = tenfit.evecs[13:43, 44:74, 28:29]"
   ]
  },
  {
   "cell_type": "markdown",
   "metadata": {
    "nbpresent": {
     "id": "9cd84e47-b397-4272-9323-609dc0538efc"
    }
   },
   "source": [
    "Seleccionamos un área de interés (ROI):"
   ]
  },
  {
   "cell_type": "code",
   "execution_count": 44,
   "metadata": {
    "nbpresent": {
     "id": "f2506d61-c3ed-490a-bb35-f03c9dbcc3ce"
    }
   },
   "outputs": [
    {
     "name": "stdout",
     "output_type": "stream",
     "text": [
      "Saving illustration as tensor_ellipsoids.png\n"
     ]
    }
   ],
   "source": [
    "cfa = RGB[13:43, 44:74, 28:29] # ROI\n",
    "cfa /= cfa.max() # values normalized to increase the contrast.\n",
    "\n",
    "ren.add(actor.tensor_slicer(evals, evecs, scalar_colors=cfa, sphere=sphere, scale=0.3))\n",
    "\n",
    "print('Saving illustration as tensor_ellipsoids.png')\n",
    "window.record(ren, n_frames=1, out_path='tensor_ellipsoids.png', size=(900, 900))\n",
    "if interactive:\n",
    "    window.show(ren)"
   ]
  },
  {
   "cell_type": "markdown",
   "metadata": {},
   "source": [
    "Visualizamos la imagen:"
   ]
  },
  {
   "cell_type": "markdown",
   "metadata": {},
   "source": [
    "![](tensor_ellipsoids.png)"
   ]
  },
  {
   "cell_type": "code",
   "execution_count": 38,
   "metadata": {
    "nbpresent": {
     "id": "6d1c6196-2eb1-4761-8588-b1ea51bbabb5"
    }
   },
   "outputs": [],
   "source": [
    "window.clear(ren)"
   ]
  },
  {
   "cell_type": "markdown",
   "metadata": {
    "nbpresent": {
     "id": "30195fa3-e3b6-41e1-92b1-1375c97d78df"
    }
   },
   "source": [
    "Para visualizar las funciones de distribución de orientaciones (ODFs) de la misma área:"
   ]
  },
  {
   "cell_type": "code",
   "execution_count": 45,
   "metadata": {
    "nbpresent": {
     "id": "730d8ee4-9ed8-4059-be90-0b1351af1355"
    }
   },
   "outputs": [
    {
     "name": "stdout",
     "output_type": "stream",
     "text": [
      "Saving illustration as tensor_odfs.png\n"
     ]
    }
   ],
   "source": [
    "tensor_odfs = tenmodel.fit(data[20:50, 55:85, 38:39]).odf(sphere)\n",
    "\n",
    "odf_actor = actor.odf_slicer(tensor_odfs, sphere=sphere, scale=0.5, colormap=None)\n",
    "ren.add(odf_actor)\n",
    "print('Saving illustration as tensor_odfs.png')\n",
    "window.record(ren, n_frames=1, out_path='tensor_odfs.png', size=(600, 600))\n",
    "if interactive:\n",
    "    window.show(ren)"
   ]
  },
  {
   "cell_type": "markdown",
   "metadata": {},
   "source": [
    "Visualizamos la imagen:"
   ]
  },
  {
   "cell_type": "markdown",
   "metadata": {},
   "source": [
    "![](tensor_odfs.png)"
   ]
  },
  {
   "cell_type": "markdown",
   "metadata": {},
   "source": [
    "Una desventaja del modelo DTI es que sólo tiene una dirección de fibra principal, por lo que presenta problemas en zonas donde hay fibras cruzadas ó tangentes."
   ]
  },
  {
   "cell_type": "code",
   "execution_count": null,
   "metadata": {},
   "outputs": [],
   "source": []
  }
 ],
 "metadata": {
  "kernelspec": {
   "display_name": "Python [default]",
   "language": "python",
   "name": "python3"
  },
  "language_info": {
   "codemirror_mode": {
    "name": "ipython",
    "version": 3
   },
   "file_extension": ".py",
   "mimetype": "text/x-python",
   "name": "python",
   "nbconvert_exporter": "python",
   "pygments_lexer": "ipython3",
   "version": "3.5.0"
  }
 },
 "nbformat": 4,
 "nbformat_minor": 2
}
