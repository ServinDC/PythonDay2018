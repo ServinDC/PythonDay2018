{
 "cells": [
  {
   "cell_type": "markdown",
   "metadata": {},
   "source": [
    "# Reconstrucción de la señal de difusión con el modelo tensorial (DTI)"
   ]
  },
  {
   "cell_type": "markdown",
   "metadata": {},
   "source": [
    "El modelo del tensor de difusión describe a la señal como:\n",
    "$$\n",
    "\\mathbf{S}(\\mathbf{g},b) = S_0\\text{e}^{ -b \\mathbf{g}^T\\mathbf{D}\\mathbf{g} }\n",
    "$$\n",
    "donde $\\mathbf{g}$ es la dirección gradiente con valor asociado $b$, $\\mathbf{S}(\\mathbf{g},b)$ es la señal obtenida con dichos parámetros, $S_0$ es la señal de referencia  y $\\mathbf{D}$ es el tensor de difusión."
   ]
  },
  {
   "cell_type": "markdown",
   "metadata": {},
   "source": [
    "Tenemos entonces 6 parámetros para ajustar, por la simetría de $\\mathbf{D}$:\n",
    "$$\n",
    "\\mathbf{D} = \\begin{pmatrix} D_{xx} & D_{xy} & D_{xz} \\\\\n",
    "                       D_{yx} & D_{yy} & D_{yz} \\\\\n",
    "                       D_{zx} & D_{zy} & D_{zz} \\\\ \\end{pmatrix}\n",
    "$$"
   ]
  },
  {
   "cell_type": "markdown",
   "metadata": {},
   "source": [
    "Importamos algunas librerías junto con un conjunto de datos:"
   ]
  },
  {
   "cell_type": "code",
   "execution_count": 1,
   "metadata": {},
   "outputs": [
    {
     "name": "stdout",
     "output_type": "stream",
     "text": [
      "Dataset is already in place. If you want to fetch it again please first remove the folder /home/david/.dipy/stanford_hardi \n"
     ]
    },
    {
     "data": {
      "text/plain": [
       "({'HARDI150.nii.gz': ('https://stacks.stanford.edu/file/druid:yx282xq2090/dwi.nii.gz',\n",
       "   '0b18513b46132b4d1051ed3364f2acbc'),\n",
       "  'HARDI150.bval': ('https://stacks.stanford.edu/file/druid:yx282xq2090/dwi.bvals',\n",
       "   '4e08ee9e2b1d2ec3fddb68c70ae23c36'),\n",
       "  'HARDI150.bvec': ('https://stacks.stanford.edu/file/druid:yx282xq2090/dwi.bvecs',\n",
       "   '4c63a586f29afc6a48a5809524a76cb4')},\n",
       " '/home/david/.dipy/stanford_hardi')"
      ]
     },
     "execution_count": 1,
     "metadata": {},
     "output_type": "execute_result"
    }
   ],
   "source": [
    "import numpy as np\n",
    "import nibabel as nib\n",
    "import dipy.reconst.dti as dti # reconstruction algorithms\n",
    "from dipy.data import fetch_stanford_hardi # small datasets\n",
    "fetch_stanford_hardi() # Download a HARDI dataset with 160 gradient directions"
   ]
  },
  {
   "cell_type": "markdown",
   "metadata": {},
   "source": [
    "Y lo leemos:"
   ]
  },
  {
   "cell_type": "code",
   "execution_count": 2,
   "metadata": {},
   "outputs": [
    {
     "name": "stdout",
     "output_type": "stream",
     "text": [
      "Dataset is already in place. If you want to fetch it again please first remove the folder /home/david/.dipy/stanford_hardi \n"
     ]
    }
   ],
   "source": [
    "from dipy.data import read_stanford_hardi\n",
    "img, gtab = read_stanford_hardi()"
   ]
  },
  {
   "cell_type": "markdown",
   "metadata": {},
   "source": [
    "`img` es un objeto `Nifti1Image` de `nibabel` y `gtab` es un objeto `GradientTable` de `DiPy`."
   ]
  },
  {
   "cell_type": "code",
   "execution_count": 3,
   "metadata": {},
   "outputs": [
    {
     "name": "stdout",
     "output_type": "stream",
     "text": [
      "data.shape (81, 106, 76, 160)\n"
     ]
    }
   ],
   "source": [
    "data = img.get_data()\n",
    "print('data.shape (%d, %d, %d, %d)' % data.shape)"
   ]
  },
  {
   "cell_type": "markdown",
   "metadata": {},
   "source": [
    "Primero, creamos una máscara para nuestros datos:"
   ]
  },
  {
   "cell_type": "code",
   "execution_count": 4,
   "metadata": {},
   "outputs": [
    {
     "name": "stdout",
     "output_type": "stream",
     "text": [
      "maskdata.shape (71, 87, 62, 160)\n"
     ]
    }
   ],
   "source": [
    "from dipy.segment.mask import median_otsu\n",
    "maskdata, mask = median_otsu(data, 3, 1, True,\n",
    "                             vol_idx=range(10, 50), dilate=2) # (masked_data, mask)\n",
    "print('maskdata.shape (%d, %d, %d, %d)' % maskdata.shape)"
   ]
  },
  {
   "cell_type": "markdown",
   "metadata": {},
   "source": [
    "Para realizar el ajuste, inicializamos el modelo y llamamos al método `fit`:"
   ]
  },
  {
   "cell_type": "code",
   "execution_count": 5,
   "metadata": {},
   "outputs": [],
   "source": [
    "tenmodel = dti.TensorModel(gtab)\n",
    "tenfit = tenmodel.fit(maskdata)"
   ]
  },
  {
   "cell_type": "markdown",
   "metadata": {},
   "source": [
    "El método `fit` crea un objeto `TensorFit` con los parámetros de ajuste y otros atributos del modelo; por ejemplo, la *Anisotropía Fraccional* (FA), definida como:\n",
    "$$\n",
    "FA = \\sqrt{\\frac{1}{2}\\frac{(\\lambda_1-\\lambda_2)^2+(\\lambda_1-\n",
    "                    \\lambda_3)^2+(\\lambda_2-\\lambda_3)^2}{\\lambda_1^2+\n",
    "                    \\lambda_2^2+\\lambda_3^2}}\n",
    "$$\n",
    "donde $\\lambda_1\\ge\\lambda_2\\ge\\lambda_3$ son los valores propios de $\\mathbf{D}$."
   ]
  },
  {
   "cell_type": "code",
   "execution_count": 6,
   "metadata": {},
   "outputs": [],
   "source": [
    "from dipy.reconst.dti import fractional_anisotropy, color_fa\n",
    "FA = fractional_anisotropy(tenfit.evals)\n",
    "FA[np.isnan(FA)] = 0"
   ]
  },
  {
   "cell_type": "markdown",
   "metadata": {},
   "source": [
    "Podemos visualizar cualquier rebanada fácilmente:"
   ]
  },
  {
   "cell_type": "code",
   "execution_count": 36,
   "metadata": {},
   "outputs": [
    {
     "data": {
      "image/png": "[encoded data removed]",
      "text/plain": [
       "<Figure size 432x288 with 1 Axes>"
      ]
     },
     "metadata": {},
     "output_type": "display_data"
    }
   ],
   "source": [
    "import matplotlib.pyplot as plt\n",
    "plt.imshow(FA[:,:,30],cmap='gray')\n",
    "plt.gca().set_axis_off()\n",
    "plt.show()"
   ]
  },
  {
   "cell_type": "markdown",
   "metadata": {},
   "source": [
    "Y guardar la imagen, sus valores propios ó vectores propios, en formato Nifti:"
   ]
  },
  {
   "cell_type": "code",
   "execution_count": 9,
   "metadata": {},
   "outputs": [],
   "source": [
    "fa_img = nib.Nifti1Image(FA.astype(np.float32), img.affine)\n",
    "#nib.save(fa_img, 'tensor_fa.nii.gz')\n",
    "evecs_img = nib.Nifti1Image(tenfit.evecs.astype(np.float32), img.affine)\n",
    "#nib.save(evecs_img, 'tensor_evecs.nii.gz')\n",
    "evals_img = nib.Nifti1Image(tenfit.evals.astype(np.float32), img.affine)\n",
    "#nib.save(evals_img, 'tensor_evals.nii.gz')"
   ]
  },
  {
   "cell_type": "markdown",
   "metadata": {},
   "source": [
    "Otra estadística de este modelo es la *difusión media* (MD); podemos calcularla de dos formas:"
   ]
  },
  {
   "cell_type": "code",
   "execution_count": 10,
   "metadata": {},
   "outputs": [],
   "source": [
    "MD1 = dti.mean_diffusivity(tenfit.evals)\n",
    "#nib.save(nib.Nifti1Image(MD1.astype(np.float32), img.affine), 'tensors_md.nii.gz')"
   ]
  },
  {
   "cell_type": "code",
   "execution_count": 11,
   "metadata": {},
   "outputs": [],
   "source": [
    "MD2 = tenfit.md"
   ]
  },
  {
   "cell_type": "markdown",
   "metadata": {},
   "source": [
    "Y resultan equivalentes:"
   ]
  },
  {
   "cell_type": "code",
   "execution_count": 12,
   "metadata": {},
   "outputs": [
    {
     "data": {
      "text/plain": [
       "0.0"
      ]
     },
     "execution_count": 12,
     "metadata": {},
     "output_type": "execute_result"
    }
   ],
   "source": [
    "np.linalg.norm(MD1-MD2)"
   ]
  },
  {
   "cell_type": "markdown",
   "metadata": {},
   "source": [
    "Para graficar el mapeo a color de la FA evaluamos:"
   ]
  },
  {
   "cell_type": "code",
   "execution_count": 43,
   "metadata": {},
   "outputs": [
    {
     "data": {
      "image/png": "[encoded data removed]",
      "text/plain": [
       "<Figure size 432x288 with 1 Axes>"
      ]
     },
     "metadata": {},
     "output_type": "display_data"
    }
   ],
   "source": [
    "FA = np.clip(FA, 0, 1)\n",
    "RGB = color_fa(FA, tenfit.evecs) # Color fractional anisotropy of diffusion tensor\n",
    "#nib.save(nib.Nifti1Image(np.array(255 * RGB, 'uint8'), img.affine), 'tensor_rgb.nii.gz')\n",
    "plt.imshow(RGB[:,:,31,:]) # Slice 31\n",
    "plt.gca().set_axis_off()\n",
    "plt.show()"
   ]
  },
  {
   "cell_type": "markdown",
   "metadata": {},
   "source": [
    "Intentemos visualizar los elipsoides de difusión de un área rectangular de nuestra imágen (cuerpo calloso)."
   ]
  },
  {
   "cell_type": "code",
   "execution_count": 44,
   "metadata": {},
   "outputs": [],
   "source": [
    "from dipy.data import get_sphere\n",
    "sphere = get_sphere('symmetric724')"
   ]
  },
  {
   "cell_type": "code",
   "execution_count": 25,
   "metadata": {},
   "outputs": [
    {
     "name": "stdout",
     "output_type": "stream",
     "text": [
      "Object `dipy.viz` not found.\n"
     ]
    }
   ],
   "source": [
    "#from dipy.viz import window, actor"
   ]
  },
  {
   "cell_type": "code",
   "execution_count": 17,
   "metadata": {},
   "outputs": [
    {
     "ename": "NameError",
     "evalue": "name 'window' is not defined",
     "output_type": "error",
     "traceback": [
      "\u001b[0;31m---------------------------------------------------------------------------\u001b[0m",
      "\u001b[0;31mNameError\u001b[0m                                 Traceback (most recent call last)",
      "\u001b[0;32m<ipython-input-17-d6e3a2e7fc8c>\u001b[0m in \u001b[0;36m<module>\u001b[0;34m()\u001b[0m\n\u001b[1;32m      1\u001b[0m \u001b[0minteractive\u001b[0m \u001b[0;34m=\u001b[0m \u001b[0;32mFalse\u001b[0m\u001b[0;34m\u001b[0m\u001b[0m\n\u001b[0;32m----> 2\u001b[0;31m \u001b[0mren\u001b[0m \u001b[0;34m=\u001b[0m \u001b[0mwindow\u001b[0m\u001b[0;34m.\u001b[0m\u001b[0mRenderer\u001b[0m\u001b[0;34m(\u001b[0m\u001b[0;34m)\u001b[0m\u001b[0;34m\u001b[0m\u001b[0m\n\u001b[0m\u001b[1;32m      3\u001b[0m \u001b[0;34m\u001b[0m\u001b[0m\n\u001b[1;32m      4\u001b[0m \u001b[0mevals\u001b[0m \u001b[0;34m=\u001b[0m \u001b[0mtenfit\u001b[0m\u001b[0;34m.\u001b[0m\u001b[0mevals\u001b[0m\u001b[0;34m[\u001b[0m\u001b[0;36m13\u001b[0m\u001b[0;34m:\u001b[0m\u001b[0;36m43\u001b[0m\u001b[0;34m,\u001b[0m \u001b[0;36m44\u001b[0m\u001b[0;34m:\u001b[0m\u001b[0;36m74\u001b[0m\u001b[0;34m,\u001b[0m \u001b[0;36m28\u001b[0m\u001b[0;34m:\u001b[0m\u001b[0;36m29\u001b[0m\u001b[0;34m]\u001b[0m\u001b[0;34m\u001b[0m\u001b[0m\n\u001b[1;32m      5\u001b[0m \u001b[0mevecs\u001b[0m \u001b[0;34m=\u001b[0m \u001b[0mtenfit\u001b[0m\u001b[0;34m.\u001b[0m\u001b[0mevecs\u001b[0m\u001b[0;34m[\u001b[0m\u001b[0;36m13\u001b[0m\u001b[0;34m:\u001b[0m\u001b[0;36m43\u001b[0m\u001b[0;34m,\u001b[0m \u001b[0;36m44\u001b[0m\u001b[0;34m:\u001b[0m\u001b[0;36m74\u001b[0m\u001b[0;34m,\u001b[0m \u001b[0;36m28\u001b[0m\u001b[0;34m:\u001b[0m\u001b[0;36m29\u001b[0m\u001b[0;34m]\u001b[0m\u001b[0;34m\u001b[0m\u001b[0m\n",
      "\u001b[0;31mNameError\u001b[0m: name 'window' is not defined"
     ]
    }
   ],
   "source": [
    "interactive = False\n",
    "ren = window.Renderer()\n",
    "\n",
    "evals = tenfit.evals[13:43, 44:74, 28:29]\n",
    "evecs = tenfit.evecs[13:43, 44:74, 28:29]"
   ]
  },
  {
   "cell_type": "markdown",
   "metadata": {},
   "source": [
    "Seleccionamos un área de interés (ROI):"
   ]
  },
  {
   "cell_type": "code",
   "execution_count": null,
   "metadata": {},
   "outputs": [],
   "source": [
    "cfa = RGB[13:43, 44:74, 28:29] # ROI\n",
    "cfa /= cfa.max() # values normalized to increase the contrast.\n",
    "\n",
    "ren.add(actor.tensor_slicer(evals, evecs, scalar_colors=cfa, sphere=sphere, scale=0.3))\n",
    "\n",
    "#print('Saving illustration as tensor_ellipsoids.png')\n",
    "#window.record(ren, n_frames=1, out_path='tensor_ellipsoids.png', size=(600, 600))\n",
    "if interactive:\n",
    "    window.show(ren)"
   ]
  },
  {
   "cell_type": "code",
   "execution_count": null,
   "metadata": {},
   "outputs": [],
   "source": [
    "window.clear(ren)"
   ]
  },
  {
   "cell_type": "markdown",
   "metadata": {},
   "source": [
    "Para visualizar las funciones de distribución de orientaciones (ODFs) de la misma área:"
   ]
  },
  {
   "cell_type": "code",
   "execution_count": null,
   "metadata": {},
   "outputs": [],
   "source": [
    "tensor_odfs = tenmodel.fit(data[20:50, 55:85, 38:39]).odf(sphere)\n",
    "\n",
    "odf_actor = actor.odf_slicer(tensor_odfs, sphere=sphere, scale=0.5, colormap=None)\n",
    "ren.add(odf_actor)\n",
    "print('Saving illustration as tensor_odfs.png')\n",
    "window.record(ren, n_frames=1, out_path='tensor_odfs.png', size=(600, 600))\n",
    "if interactive:\n",
    "    window.show(ren)"
   ]
  }
 ],
 "metadata": {
  "kernelspec": {
   "display_name": "Python 3",
   "language": "python",
   "name": "python3"
  },
  "language_info": {
   "codemirror_mode": {
    "name": "ipython",
    "version": 3
   },
   "file_extension": ".py",
   "mimetype": "text/x-python",
   "name": "python",
   "nbconvert_exporter": "python",
   "pygments_lexer": "ipython3",
   "version": "3.6.6"
  }
 },
 "nbformat": 4,
 "nbformat_minor": 2
}
