{
 "cells": [
  {
   "cell_type": "markdown",
   "metadata": {},
   "source": [
    "# Leer y cargar archivos con DiPy y nibabel"
   ]
  },
  {
   "cell_type": "markdown",
   "metadata": {},
   "source": [
    "De la base de datos de DiPy descargamos una muestra con tres archivos básicos:\n",
    "* Un archivo en formato Nifti (.nii) con el volumen de imágenes.\n",
    "* Un archivo con los valores b.\n",
    "* Un archivo con los vectores gradiente."
   ]
  },
  {
   "cell_type": "code",
   "execution_count": 3,
   "metadata": {},
   "outputs": [
    {
     "name": "stdout",
     "output_type": "stream",
     "text": [
      "Creating new folder /home/david/.dipy/sherbrooke_3shell\n",
      "Downloading \"HARDI193.nii.gz\" to /home/david/.dipy/sherbrooke_3shell\n",
      "Download Progress: [##################################] 100.00%  of 183.58 MBDownloading \"HARDI193.bval\" to /home/david/.dipy/sherbrooke_3shell\n",
      "Download Progress: [##################################] 100.00%  of 0.00 MBDownloading \"HARDI193.bvec\" to /home/david/.dipy/sherbrooke_3shell\n",
      "Download Progress: [##################################] 100.00%  of 0.01 MBFiles successfully downloaded to /home/david/.dipy/sherbrooke_3shell\n"
     ]
    },
    {
     "data": {
      "text/plain": [
       "({'HARDI193.nii.gz': ('https://digital.lib.washington.edu/researchworks/bitstream/handle/1773/38475/HARDI193.nii.gz',\n",
       "   '0b735e8f16695a37bfbd66aab136eb66'),\n",
       "  'HARDI193.bval': ('https://digital.lib.washington.edu/researchworks/bitstream/handle/1773/38475/HARDI193.bval',\n",
       "   'e9b9bb56252503ea49d31fb30a0ac637'),\n",
       "  'HARDI193.bvec': ('https://digital.lib.washington.edu/researchworks/bitstream/handle/1773/38475/HARDI193.bvec',\n",
       "   '0c83f7e8b917cd677ad58a078658ebb7')},\n",
       " '/home/david/.dipy/sherbrooke_3shell')"
      ]
     },
     "execution_count": 3,
     "metadata": {},
     "output_type": "execute_result"
    }
   ],
   "source": [
    "from dipy.data import fetch_sherbrooke_3shell\n",
    "fetch_sherbrooke_3shell() # Download a 3shell HARDI dataset with 192 gradient direction"
   ]
  },
  {
   "cell_type": "code",
   "execution_count": 7,
   "metadata": {},
   "outputs": [],
   "source": [
    "from os.path import expanduser, join\n",
    "home = expanduser('~')\n",
    "dname = join(home, '.dipy', 'sherbrooke_3shell')"
   ]
  },
  {
   "cell_type": "markdown",
   "metadata": {},
   "source": [
    "Nombres de los 3 archivos:"
   ]
  },
  {
   "cell_type": "code",
   "execution_count": 9,
   "metadata": {},
   "outputs": [
    {
     "name": "stdout",
     "output_type": "stream",
     "text": [
      "/home/david/.dipy/sherbrooke_3shell/HARDI193.nii.gz\n",
      "/home/david/.dipy/sherbrooke_3shell/HARDI193.bval\n",
      "/home/david/.dipy/sherbrooke_3shell/HARDI193.bvec\n"
     ]
    }
   ],
   "source": [
    "fdwi = join(dname, 'HARDI193.nii.gz')\n",
    "fbval = join(dname, 'HARDI193.bval')\n",
    "fbvec = join(dname, 'HARDI193.bvec')\n",
    "print(fdwi)\n",
    "print(fbval)\n",
    "print(fbvec)"
   ]
  },
  {
   "cell_type": "markdown",
   "metadata": {},
   "source": [
    "Cargamos los archivos con la librería ```nibabel```:"
   ]
  },
  {
   "cell_type": "code",
   "execution_count": 14,
   "metadata": {},
   "outputs": [
    {
     "name": "stdout",
     "output_type": "stream",
     "text": [
      "(128, 128, 60, 193)\n"
     ]
    }
   ],
   "source": [
    "import nibabel as nib\n",
    "img = nib.load(fdwi)\n",
    "data = img.get_data() # 4D array\n",
    "print(data.shape)"
   ]
  },
  {
   "cell_type": "markdown",
   "metadata": {},
   "source": [
    "```data``` es un volumen de 60 imágenes de 128x128 con 196 direcciones gradiente."
   ]
  },
  {
   "cell_type": "code",
   "execution_count": null,
   "metadata": {},
   "outputs": [],
   "source": []
  }
 ],
 "metadata": {
  "kernelspec": {
   "display_name": "Python 3",
   "language": "python",
   "name": "python3"
  },
  "language_info": {
   "codemirror_mode": {
    "name": "ipython",
    "version": 3
   },
   "file_extension": ".py",
   "mimetype": "text/x-python",
   "name": "python",
   "nbconvert_exporter": "python",
   "pygments_lexer": "ipython3",
   "version": "3.6.6"
  }
 },
 "nbformat": 4,
 "nbformat_minor": 2
}
